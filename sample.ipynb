{
 "cells": [
  {
   "metadata": {},
   "cell_type": "markdown",
   "source": "<h2>Sziltan 2. házi feladat</h2>",
   "id": "8a77807f92f26ee"
  },
  {
   "metadata": {},
   "cell_type": "markdown",
   "source": "<h4>Adatok</h4>",
   "id": "5d48a7880d8b9a6"
  },
  {
   "metadata": {},
   "cell_type": "markdown",
   "source": "<img src=\"abra.png\" alt=\"Kep\" width=\"450\">",
   "id": "5031b4fc6e1741ac"
  },
  {
   "metadata": {
    "ExecuteTime": {
     "end_time": "2025-04-30T08:12:33.917540Z",
     "start_time": "2025-04-30T08:12:33.902846Z"
    }
   },
   "cell_type": "code",
   "source": [
    "import math\n",
    "import sympy as sp\n",
    "import numpy as np\n",
    "from PIL.TiffImagePlugin import ImageFileDirectory_v2\n",
    "from sympy import cos, sin, rad, sqrt, atan\n",
    "from sympy import symbols, Eq, solve\n",
    "import matplotlib.pyplot as plt\n",
    "from numpy import linspace\n",
    "from IPython.display import Math\n",
    "\n",
    "L, h, d, F, M, p, epsilon_a, epsilon_b, epsilon_c, alfa, rug_mod, Poi_teny = sp.symbols('L, h, d, F, M, p, epsilon_a, epsilon_b, epsilon_c, alfa, rug_mod, Poi_teny')\n",
    "#adatok = [(L, 1.5), (h, 2.5), (d, 58), (F, 4), (M, 1.5), (p, 1.75), (epsilon_a, -3.4*10**-4), (epsilon_b, -4.5*10**-4), (epsilon_c, 3*10**-4), (alfa, 45), (rug_mod, 210000), (Poi_teny, 0.3)]\n",
    "adatok = [(L, 1.5), (h, 2.5), (d, 58), (F, 4), (M, 1.5), (p, 1.75), (epsilon_a, -5.2*10**-4), (epsilon_b, 2.5*10**-4), (epsilon_c, 6*10**-4), (alfa, 30), (rug_mod, 210000), (Poi_teny, 0.3)]"
   ],
   "id": "fbc121e30a2defb3",
   "outputs": [],
   "execution_count": 157
  },
  {
   "metadata": {},
   "cell_type": "markdown",
   "source": "<h4>1. feladat</h4>\n",
   "id": "e039efbfc1bafdfb"
  },
  {
   "metadata": {
    "ExecuteTime": {
     "end_time": "2025-04-30T08:12:34.046675Z",
     "start_time": "2025-04-30T08:12:33.933943Z"
    }
   },
   "cell_type": "code",
   "source": [
    "A_z, B_x, B_z, M_B, C_x, C_z = symbols('A_z B_x B_z M_B C_x C_z')\n",
    "\n",
    "F1_x = Eq(C_x, 0)\n",
    "F1_z = Eq(A_z + C_z + p * L - F, 0)\n",
    "M1_A = Eq(C_z * L - M - F * 2*L - (p * L) * L/2, 0)\n",
    "F2_x = Eq(-C_x + B_x, 0)\n",
    "F2_z = Eq(-C_z + B_z, 0)\n",
    "M2_C = Eq(M_B + B_x * h, 0)\n",
    "\n",
    "megoldas = solve((F1_x, F1_z, M1_A, F2_x, F2_z, M2_C), (A_z, B_x, B_z, M_B, C_x, C_z))\n",
    "\n",
    "A_z = megoldas[A_z].subs(adatok)\n",
    "B_x = megoldas[B_x].subs(adatok)\n",
    "B_z = megoldas[B_z].subs(adatok)\n",
    "M_B = megoldas[M_B].subs(adatok)\n",
    "C_x = megoldas[C_x].subs(adatok)\n",
    "C_z = megoldas[C_z].subs(adatok)\n",
    "\n",
    "Math(r\"A_z = \" + str(A_z) + r\" \\quad B_x = \" + str(B_x) + r\" \\quad B_z = \" + str(B_z) + r\" \\quad M_B = \" + str(M_B) + r\" \\quad C_x = \" + str(C_x) + r\" \\quad C_z = \" + str(C_z))"
   ],
   "id": "1cf40149db08e711",
   "outputs": [
    {
     "data": {
      "text/plain": [
       "<IPython.core.display.Math object>"
      ],
      "text/latex": "$\\displaystyle A_z = -8.93750000000000 \\quad B_x = 0 \\quad B_z = 10.3125000000000 \\quad M_B = 0 \\quad C_x = 0 \\quad C_z = 10.3125000000000$"
     },
     "execution_count": 158,
     "metadata": {},
     "output_type": "execute_result"
    }
   ],
   "execution_count": 158
  },
  {
   "metadata": {},
   "cell_type": "markdown",
   "source": "<h4>2. feladat</h4>",
   "id": "b89c61de7c702a59"
  },
  {
   "metadata": {
    "ExecuteTime": {
     "end_time": "2025-04-30T08:12:34.191258Z",
     "start_time": "2025-04-30T08:12:34.130591Z"
    }
   },
   "cell_type": "code",
   "source": [
    "x = symbols('x')\n",
    "\n",
    "Mh = sp.Piecewise((-M - p*x * (x/2), x<=L), (-M - p*L * (x-L/2) - A_z * (x-L), x<=L+L), (-M - p*L * (x-L/2) - A_z * (x-L) - C_z * (x-2*L), x<=L+L+L))\n",
    "Mh_megold = Mh.subs(adatok)\n",
    "Mh_megold"
   ],
   "id": "8d0e9a48ce61cfb3",
   "outputs": [
    {
     "data": {
      "text/plain": [
       "Piecewise((-0.875*x**2 - 1.5, x <= 1.5), (6.3125*x - 12.9375, x <= 3.0), (18.0 - 4.0*x, x <= 4.5))"
      ],
      "text/latex": "$\\displaystyle \\begin{cases} - 0.875 x^{2} - 1.5 & \\text{for}\\: x \\leq 1.5 \\\\6.3125 x - 12.9375 & \\text{for}\\: x \\leq 3.0 \\\\18.0 - 4.0 x & \\text{for}\\: x \\leq 4.5 \\end{cases}$"
     },
     "execution_count": 159,
     "metadata": {},
     "output_type": "execute_result"
    }
   ],
   "execution_count": 159
  },
  {
   "metadata": {
    "ExecuteTime": {
     "end_time": "2025-04-30T08:12:35.118034Z",
     "start_time": "2025-04-30T08:12:34.297113Z"
    }
   },
   "cell_type": "code",
   "source": [
    "L1 = (L + L + L).subs(adatok)\n",
    "xs = linspace(0.,float(L1),301)\n",
    "\n",
    "Mhxs = [float(Mh_megold.subs(x, xi).evalf()) for xi in xs]\n",
    "\n",
    "plt.plot(xs, Mhxs, lw=3, color='green')\n",
    "plt.fill_between(xs, Mhxs, 0, color='green', alpha=0.3)\n",
    "ax = plt.gca()\n",
    "ax.set_title(\"Hajlító igénybevétel\")\n",
    "ax.set_xlabel(\"$x$ [m]\")\n",
    "ax.set_ylabel(\"$Mh(x)$ [kNm]\")\n",
    "ax.set_xlim(-0.2, 4.7)\n",
    "ax.set_ylim(-4, 7)\n",
    "ax.grid()\n",
    "ax.set_aspect('equal', adjustable='box')\n",
    "\n",
    "plt.show()"
   ],
   "id": "9e4049b30aa4bd58",
   "outputs": [
    {
     "data": {
      "text/plain": [
       "<Figure size 640x480 with 1 Axes>"
      ],
      "image/png": "[encoded data removed]"
     },
     "metadata": {},
     "output_type": "display_data"
    }
   ],
   "execution_count": 160
  },
  {
   "metadata": {
    "ExecuteTime": {
     "end_time": "2025-04-30T08:12:35.289792Z",
     "start_time": "2025-04-30T08:12:35.258783Z"
    }
   },
   "cell_type": "code",
   "source": [
    "C11, C12, C21, C22, C31, C32 = symbols('C11, C12, C21, C22, C31, C32')\n",
    "\n",
    "x = symbols('x', real = True)\n",
    "\n",
    "Mh1 = (-M - p*x * x/2).subs(adatok)\n",
    "Mh1I = sp.integrate(Mh1, x) + C11\n",
    "Mh1II = sp.integrate(Mh1I, x) + C12\n",
    "\n",
    "Math(r\"w''(x) = \" + sp.latex(Mh1) + r\" \\quad w'(x) = \" + sp.latex(Mh1I) + r\" \\quad w(x) = \" + sp.latex(Mh1II))"
   ],
   "id": "9fbcf196c2408429",
   "outputs": [
    {
     "data": {
      "text/plain": [
       "<IPython.core.display.Math object>"
      ],
      "text/latex": "$\\displaystyle w''(x) = - 0.875 x^{2} - 1.5 \\quad w'(x) = C_{11} - 0.291666666666667 x^{3} - 1.5 x \\quad w(x) = 1.0 C_{11} x + C_{12} - 0.0729166666666667 x^{4} - 0.75 x^{2}$"
     },
     "execution_count": 161,
     "metadata": {},
     "output_type": "execute_result"
    }
   ],
   "execution_count": 161
  },
  {
   "metadata": {
    "ExecuteTime": {
     "end_time": "2025-04-30T08:12:35.372366Z",
     "start_time": "2025-04-30T08:12:35.314349Z"
    }
   },
   "cell_type": "code",
   "source": [
    "x = symbols('x', real = True)\n",
    "\n",
    "Mh2 = (-M - p*L * (x-L/2) - A_z * (x-L)).subs(adatok)\n",
    "Mh2I = sp.integrate(Mh2, x) + C21\n",
    "Mh2II = sp.integrate(Mh2I, x) + C22\n",
    "\n",
    "Math(r\"w''(x) = \" + sp.latex(Mh2) + r\" \\quad w'(x) = \" + sp.latex(Mh2I) + r\" \\quad w(x) = \" + sp.latex(Mh2II))"
   ],
   "id": "f14bb6e30e423ea1",
   "outputs": [
    {
     "data": {
      "text/plain": [
       "<IPython.core.display.Math object>"
      ],
      "text/latex": "$\\displaystyle w''(x) = 6.3125 x - 12.9375 \\quad w'(x) = C_{21} + 3.15625 x^{2} - 12.9375 x \\quad w(x) = 1.0 C_{21} x + C_{22} + 1.05208333333333 x^{3} - 6.46875 x^{2}$"
     },
     "execution_count": 162,
     "metadata": {},
     "output_type": "execute_result"
    }
   ],
   "execution_count": 162
  },
  {
   "metadata": {
    "ExecuteTime": {
     "end_time": "2025-04-30T08:12:35.598317Z",
     "start_time": "2025-04-30T08:12:35.557129Z"
    }
   },
   "cell_type": "code",
   "source": [
    "x = symbols('x', real = True)\n",
    "\n",
    "Mh3 = (-M - p*L * (x-L/2) - A_z * (x-L) - C_z * (x-2*L)).subs(adatok)\n",
    "Mh3I = sp.integrate(Mh3, x) + C31\n",
    "Mh3II = sp.integrate(Mh3I, x) + C32\n",
    "\n",
    "Math(r\"w''(x) = \" + sp.latex(Mh3) + r\" \\quad w'(x) = \" + sp.latex(Mh3I) + r\" \\quad w(x) = \" + sp.latex(Mh3II))"
   ],
   "id": "b277cd6169779c87",
   "outputs": [
    {
     "data": {
      "text/plain": [
       "<IPython.core.display.Math object>"
      ],
      "text/latex": "$\\displaystyle w''(x) = 18.0 - 4.0 x \\quad w'(x) = C_{31} - 2.0 x^{2} + 18.0 x \\quad w(x) = 1.0 C_{31} x + C_{32} - 0.666666666666667 x^{3} + 9.0 x^{2}$"
     },
     "execution_count": 163,
     "metadata": {},
     "output_type": "execute_result"
    }
   ],
   "execution_count": 163
  },
  {
   "metadata": {
    "ExecuteTime": {
     "end_time": "2025-04-30T08:12:35.810288Z",
     "start_time": "2025-04-30T08:12:35.784823Z"
    }
   },
   "cell_type": "code",
   "source": "Math(r\"\\begin{array}{l}\" + sp.latex(Mh1II) + r\"=\" + sp.latex(0) + r\"\\\\\" + sp.latex(Mh2II) + r\"=\" + sp.latex(0) + r\"\\\\\" + sp.latex(Mh3II) + r\"=\" + sp.latex(0) + r\"\\\\\" + sp.latex(Mh1I) + r\"=\" + sp.latex(Mh2I) + r\"\\\\\" + sp.latex(Mh2I) + r\"=\" + sp.latex(Mh3I) + r\"\\end{array}\")",
   "id": "97d593b5eb1eea",
   "outputs": [
    {
     "data": {
      "text/plain": [
       "<IPython.core.display.Math object>"
      ],
      "text/latex": "$\\displaystyle \\begin{array}{l}1.0 C_{11} x + C_{12} - 0.0729166666666667 x^{4} - 0.75 x^{2}=0\\\\1.0 C_{21} x + C_{22} + 1.05208333333333 x^{3} - 6.46875 x^{2}=0\\\\1.0 C_{31} x + C_{32} - 0.666666666666667 x^{3} + 9.0 x^{2}=0\\\\C_{11} - 0.291666666666667 x^{3} - 1.5 x=C_{21} + 3.15625 x^{2} - 12.9375 x\\\\C_{21} + 3.15625 x^{2} - 12.9375 x=C_{31} - 2.0 x^{2} + 18.0 x\\end{array}$"
     },
     "execution_count": 164,
     "metadata": {},
     "output_type": "execute_result"
    }
   ],
   "execution_count": 164
  },
  {
   "metadata": {
    "ExecuteTime": {
     "end_time": "2025-04-30T08:12:36.143875Z",
     "start_time": "2025-04-30T08:12:35.839143Z"
    }
   },
   "cell_type": "code",
   "source": [
    "elso = Eq(Mh1II.subs(x, L), 0)\n",
    "masodik = Eq(Mh2II.subs(x, L), 0)\n",
    "harmadik = Eq(Mh2II.subs(x, 2*L), 0)\n",
    "negyedik = Eq(Mh3II.subs(x, 2*L), 0)\n",
    "otodik = Eq(Mh1I.subs(x, L), Mh2I.subs(x, L))\n",
    "hatodik = Eq(Mh2I.subs(x, 2*L), Mh3I.subs(x, 2*L))\n",
    "\n",
    "megoldas = solve((elso, masodik, harmadik, negyedik, otodik, hatodik), (C11, C12, C21, C22, C31, C32))\n",
    "\n",
    "Cee = megoldas[C11].subs(adatok)\n",
    "Cek = megoldas[C12].subs(adatok)\n",
    "Cke = megoldas[C21].subs(adatok)\n",
    "Ckk = megoldas[C22].subs(adatok)\n",
    "Che = megoldas[C31].subs(adatok)\n",
    "Chk = megoldas[C32].subs(adatok)\n",
    "\n",
    "Math(\n",
    "    r\"C_{11} = \" + str(Cee) + r\" \\quad \"\n",
    "    r\"C_{12} = \" + str(Cek) + r\" \\quad \"\n",
    "    r\"C_{21} = \" + str(Cke) + r\" \\quad \"\n",
    "    r\"C_{22} = \" + str(Ckk) + r\" \\quad \"\n",
    "    r\"C_{31} = \" + str(Che) + r\" \\quad \"\n",
    "    r\"C_{32} = \" + str(Chk)\n",
    ")"
   ],
   "id": "8594995a51bbda3a",
   "outputs": [
    {
     "data": {
      "text/plain": [
       "<IPython.core.display.Math object>"
      ],
      "text/latex": "$\\displaystyle C_{11} = 3.46875000000000 \\quad C_{12} = -3.14648437500000 \\quad C_{21} = 12.5390625000000 \\quad C_{22} = -7.80468750000000 \\quad C_{31} = -33.8671875000000 \\quad C_{32} = 38.6015625000000$"
     },
     "execution_count": 165,
     "metadata": {},
     "output_type": "execute_result"
    }
   ],
   "execution_count": 165
  },
  {
   "metadata": {
    "ExecuteTime": {
     "end_time": "2025-04-30T08:12:36.400663Z",
     "start_time": "2025-04-30T08:12:36.255341Z"
    }
   },
   "cell_type": "code",
   "source": [
    "I_y = 77.8\n",
    "hajm = (I_y * 10**-10 * rug_mod * 100).subs(adatok)\n",
    "\n",
    "x2 = symbols('x2')\n",
    "x3 = symbols('x3')\n",
    "\n",
    "w = sp.Piecewise((-1/hajm * Mh1II.subs(x, x2), x2<=L), (-1/hajm * Mh2II.subs(x, x2), x2<=L+L), (-1/hajm * Mh3II.subs(x, x2), x2<=L+L+L))\n",
    "w_megold = w.subs({\n",
    "    C11: Cee, C12: Cek, C21: Cke, C22: Ckk, C31: Che, C32: Chk\n",
    "}).subs(adatok)\n",
    "\n",
    "phi = sp.Piecewise((-1/hajm * Mh1I.subs(x, x3), x3<=L), (-1/hajm * Mh2I.subs(x, x3), x3<=L+L), (-1/hajm * Mh3I.subs(x, x3), x3<=L+L+L))\n",
    "phi_megold = phi.subs({\n",
    "    C11: Cee, C12: Cek, C21: Cke, C22: Ckk, C31: Che, C32: Chk\n",
    "}).subs(adatok)\n",
    "phi"
   ],
   "id": "41a118d05a58f14f",
   "outputs": [
    {
     "data": {
      "text/plain": [
       "Piecewise((-6.12070020810381*C11 + 1.78520422736361*x3**3 + 9.18105031215571*x3, L >= x3), (-6.12070020810381*C21 - 19.3184600318276*x3**2 + 79.186558942343*x3, x3 <= 2*L), (-6.12070020810381*C31 + 12.2414004162076*x3**2 - 110.172603745869*x3, x3 <= 3*L))"
      ],
      "text/latex": "$\\displaystyle \\begin{cases} - 6.12070020810381 C_{11} + 1.78520422736361 x_{3}^{3} + 9.18105031215571 x_{3} & \\text{for}\\: L \\geq x_{3} \\\\- 6.12070020810381 C_{21} - 19.3184600318276 x_{3}^{2} + 79.186558942343 x_{3} & \\text{for}\\: x_{3} \\leq 2 L \\\\- 6.12070020810381 C_{31} + 12.2414004162076 x_{3}^{2} - 110.172603745869 x_{3} & \\text{for}\\: x_{3} \\leq 3 L \\end{cases}$"
     },
     "execution_count": 166,
     "metadata": {},
     "output_type": "execute_result"
    }
   ],
   "execution_count": 166
  },
  {
   "metadata": {
    "ExecuteTime": {
     "end_time": "2025-04-30T08:12:38.007215Z",
     "start_time": "2025-04-30T08:12:36.482997Z"
    }
   },
   "cell_type": "code",
   "source": [
    "L2 = (L + L + L).subs(adatok)\n",
    "xs = linspace(0., float(L2), 301)\n",
    "xs2 = linspace(0., float(L2), 301)\n",
    "\n",
    "wxs = [float(w_megold.subs(x2, xi).evalf()) for xi in xs]\n",
    "phixs = [float(phi_megold.subs(x3, xi).evalf()) for xi in xs2]\n",
    "\n",
    "fig, axs = plt.subplots(2, 1, figsize=(8, 10))  # Két soros, egy oszlopos ábra\n",
    "\n",
    "# 1. subplot: w(x)\n",
    "axs[0].plot(xs, wxs, lw=3, color='red')\n",
    "axs[0].fill_between(xs, wxs, 0, color='red', alpha=0.3)\n",
    "axs[0].set_title(\"Elmozdulás\")\n",
    "axs[0].set_xlabel(\"$x$ [m]\")\n",
    "axs[0].set_ylabel(\"$w(x)$ [mm]\")\n",
    "axs[0].set_xlim(-0.2, 4.7)\n",
    "axs[0].set_ylim(-60, 35)\n",
    "axs[0].grid()\n",
    "\n",
    "# 2. subplot: φ(x)\n",
    "axs[1].plot(xs2, phixs, lw=3, color='blue')\n",
    "axs[1].fill_between(xs2, phixs, 0, color='blue', alpha=0.3)\n",
    "axs[1].set_title(\"Forgás\")\n",
    "axs[1].set_xlabel(\"$x$ [m]\")\n",
    "axs[1].set_ylabel(r\"$\\phi(x)$ [$^\\circ$]\")\n",
    "axs[1].set_xlim(-0.2, 4.7)\n",
    "axs[1].set_ylim(-60, 35)\n",
    "axs[1].grid()\n",
    "\n",
    "plt.tight_layout()\n",
    "plt.show()"
   ],
   "id": "22a98e4bd69f01b2",
   "outputs": [
    {
     "data": {
      "text/plain": [
       "<Figure size 800x1000 with 2 Axes>"
      ],
      "image/png": "[encoded data removed]"
     },
     "metadata": {},
     "output_type": "display_data"
    }
   ],
   "execution_count": 167
  },
  {
   "metadata": {
    "ExecuteTime": {
     "end_time": "2025-04-30T08:12:38.161974Z",
     "start_time": "2025-04-30T08:12:38.130372Z"
    }
   },
   "cell_type": "code",
   "source": [
    "x_max = 4.5\n",
    "w_max = (-1/hajm * Mh3II.subs(x, x2)).subs({\n",
    "    x2:x_max, C11: Cee, C12: Cek, C21: Cke, C22: Ckk, C31: Che, C32: Chk\n",
    "}).subs(adatok)\n",
    "\n",
    "Math(r\"x_{max} = \" + str(x_max) + r\" \\quad w_{max} = \" + str(w_max))"
   ],
   "id": "361ad49bb8a534ae",
   "outputs": [
    {
     "data": {
      "text/plain": [
       "<IPython.core.display.Math object>"
      ],
      "text/latex": "$\\displaystyle x_{max} = 4.5 \\quad w_{max} = -47.1246098053616$"
     },
     "execution_count": 168,
     "metadata": {},
     "output_type": "execute_result"
    }
   ],
   "execution_count": 168
  },
  {
   "metadata": {},
   "cell_type": "markdown",
   "source": "<h4>3. feladat</h4>\n",
   "id": "6d484b741518b7d0"
  },
  {
   "metadata": {
    "ExecuteTime": {
     "end_time": "2025-04-30T08:12:38.329789Z",
     "start_time": "2025-04-30T08:12:38.261479Z"
    }
   },
   "cell_type": "code",
   "source": [
    "sigma_F = 240\n",
    "lambda_0 = 105\n",
    "\n",
    "lambda_F = (308 - 240)/1.14\n",
    "\n",
    "sigma = sp.Piecewise((sigma_F, x<=lambda_F), (308-1.14*x, x<=lambda_0), ((math.pi/x)**2*rug_mod, x<=lambda_0+200))\n",
    "Sigma_megold = sigma.subs(adatok)\n",
    "Sigma_megold"
   ],
   "id": "e5ff254a3279cd03",
   "outputs": [
    {
     "data": {
      "text/plain": [
       "Piecewise((240, x <= 59.6491228070175), (308 - 1.14*x, x <= 105), (2072616.92422877/x**2, x <= 305))"
      ],
      "text/latex": "$\\displaystyle \\begin{cases} 240 & \\text{for}\\: x \\leq 59.6491228070175 \\\\308 - 1.14 x & \\text{for}\\: x \\leq 105 \\\\\\frac{2072616.92422877}{x^{2}} & \\text{for}\\: x \\leq 305 \\end{cases}$"
     },
     "execution_count": 169,
     "metadata": {},
     "output_type": "execute_result"
    }
   ],
   "execution_count": 169
  },
  {
   "metadata": {
    "ExecuteTime": {
     "end_time": "2025-04-30T08:12:39.400875Z",
     "start_time": "2025-04-30T08:12:38.440835Z"
    }
   },
   "cell_type": "code",
   "source": [
    "L = lambda_0+200\n",
    "xs = linspace(0.,float(L),501)\n",
    "\n",
    "Sigmaxs = [float(Sigma_megold.subs(x, xi).evalf()) for xi in xs]\n",
    "\n",
    "plt.plot(xs, Sigmaxs, lw=3, color='cyan')\n",
    "plt.fill_between(xs, Sigmaxs, 0, color='cyan', alpha=0.3)\n",
    "ax = plt.gca()\n",
    "ax.set_title(\"Kritikus feszültség - karcsúság\")\n",
    "ax.set_xlabel(r\"$\\lambda$ [-]\")\n",
    "ax.set_ylabel(r\"$\\sigma$ [MPa]\")\n",
    "ax.set_xlim(-0.2, lambda_0+200)\n",
    "ax.set_ylim(-5, 350)\n",
    "ax.grid()\n",
    "ax.set_aspect('equal', adjustable='box')\n",
    "\n",
    "plt.show()"
   ],
   "id": "721279ad5f684f60",
   "outputs": [
    {
     "data": {
      "text/plain": [
       "<Figure size 640x480 with 1 Axes>"
      ],
      "image/png": "[encoded data removed]"
     },
     "metadata": {},
     "output_type": "display_data"
    }
   ],
   "execution_count": 170
  },
  {
   "metadata": {
    "ExecuteTime": {
     "end_time": "2025-04-30T08:12:39.495579Z",
     "start_time": "2025-04-30T08:12:39.461403Z"
    }
   },
   "cell_type": "code",
   "source": [
    "c = 2\n",
    "n = 3\n",
    "I_zmin = ((n * c**2 * (h*1000)**2*C_z*1000)/(rug_mod*math.pi**2)).subs(adatok)\n",
    "\n",
    "t_min = (d - (d**4 - (64/math.pi) * I_zmin)**(1/4)).subs(adatok)/2\n",
    "t_minker = math.ceil(t_min)\n",
    "\n",
    "A = ((d**2 - (d - 2*t_minker)**2)*math.pi/4).subs(adatok)/2\n",
    "I_2 = ((d**4 - (d - 2*t_minker)**4)*math.pi/64).subs(adatok)/2\n",
    "i_2 = (sqrt(I_2/A)).subs(adatok)/2\n",
    "lambda_ = (c*h*1000/i_2).subs(adatok)/2\n",
    "\n",
    "Math(r\"t_{min} = \" + str(t_min) + r\" \\quad t_{min} \\approx \" + str(t_minker) + r\" \\quad \\lambda = \" + str(lambda_))"
   ],
   "id": "35abd781126f3890",
   "outputs": [
    {
     "data": {
      "text/plain": [
       "<IPython.core.display.Math object>"
      ],
      "text/latex": "$\\displaystyle t_{min} = 7.04968942361225 \\quad t_{min} \\approx 8 \\quad \\lambda = 279.290386738973$"
     },
     "execution_count": 171,
     "metadata": {},
     "output_type": "execute_result"
    }
   ],
   "execution_count": 171
  },
  {
   "metadata": {},
   "cell_type": "markdown",
   "source": "<h4>4. feladat</h4>\n",
   "id": "7374017f24eed5db"
  },
  {
   "metadata": {
    "ExecuteTime": {
     "end_time": "2025-04-30T08:12:39.680030Z",
     "start_time": "2025-04-30T08:12:39.613227Z"
    }
   },
   "cell_type": "code",
   "source": [
    "epsilon_x = epsilon_a\n",
    "epsilon_z = epsilon_c\n",
    "\n",
    "gamma_xz = (2*(epsilon_b - epsilon_a * cos(rad(alfa))**2 - epsilon_c * sin(rad(alfa))**2)/sin(2 * rad(alfa))).subs(adatok).evalf()\n",
    "epsilon_y = (- Poi_teny * (epsilon_x + epsilon_z) /(1 - Poi_teny)).subs(adatok)\n",
    "epsilon_v = (epsilon_x + epsilon_y + epsilon_z).subs(adatok)\n",
    "\n",
    "sigma_x = ((rug_mod / (1 + Poi_teny)) * (epsilon_x + (Poi_teny / (1 - 2*Poi_teny)) * epsilon_v)).subs(adatok)\n",
    "sigma_z = ((rug_mod / (1 + Poi_teny)) * (epsilon_z + (Poi_teny / (1 - 2*Poi_teny)) * epsilon_v)).subs(adatok)\n",
    "tau_xz = ((rug_mod / (1 + Poi_teny)) * 1/2 * gamma_xz).subs(adatok)\n",
    "\n",
    "sigma_I = sigma_x.subs(adatok) + sigma_z.subs(adatok)\n",
    "\n",
    "Math(r\"\\gamma_{xz} = \" + str(gamma_xz*10**4) + r\" \\quad \\epsilon_y = \" + str(epsilon_y*10**4) + r\" \\quad \\epsilon_v = \" + str(epsilon_v*10**4) + r\" \\quad \\sigma_x = \" + str(sigma_x) + r\" \\quad \\sigma_z = \" + str(sigma_z) + r\" \\quad \\tau_{xz} = \" + str(tau_xz) + r\" \\quad \\sigma_I = \" + str(sigma_I))"
   ],
   "id": "4eed254e0a1f0fb2",
   "outputs": [
    {
     "data": {
      "text/plain": [
       "<IPython.core.display.Math object>"
      ],
      "text/latex": "$\\displaystyle \\gamma_{xz} = 11.3160652761167 \\quad \\epsilon_y = -0.342857142857143 \\quad \\epsilon_v = 0.457142857142858 \\quad \\sigma_x = -78.4615384615385 \\quad \\sigma_z = 102.461538461538 \\quad \\tau_{xz} = 91.3989887686346 \\quad \\sigma_I = 24.0000000000000$"
     },
     "execution_count": 172,
     "metadata": {},
     "output_type": "execute_result"
    }
   ],
   "execution_count": 172
  },
  {
   "metadata": {},
   "cell_type": "markdown",
   "source": "<h4>5. feladat</h4>\n",
   "id": "c5ede674c011a4be"
  },
  {
   "metadata": {
    "ExecuteTime": {
     "end_time": "2025-04-30T08:12:39.855737Z",
     "start_time": "2025-04-30T08:12:39.831246Z"
    }
   },
   "cell_type": "code",
   "source": [
    "sigma_k = (sigma_x + sigma_z)/2\n",
    "R = sqrt(((sigma_x - sigma_z)/2)**2 + tau_xz**2)\n",
    "\n",
    "sigma_1 = (sigma_k + R)\n",
    "sigma_2 = 0\n",
    "sigma_3 = (sigma_k - R)\n",
    "\n",
    "phi_1 = atan((sigma_1-sigma_x)/tau_xz)\n",
    "\n",
    "e_1 = np.array([cos(phi_1),0,sin(phi_1)])\n",
    "e_2 = np.array([0, 1, 0])\n",
    "e_3 = np.cross(e_1, e_2)\n",
    "\n",
    "Math(\n",
    "    r\"\\sigma_1 = \" + str(sigma_1) +\n",
    "    r\"\\quad \\sigma_2 = \" + str(sigma_2) +\n",
    "    r\"\\quad \\sigma_3 = \" + str(sigma_3) +\n",
    "    r\"\\quad e_1 = \\begin{bmatrix}\" + str(e_1[0]) + r\"\\\\\" + str(e_1[1]) + r\"\\\\\" + str(e_1[2]) + r\"\\end{bmatrix}\" +\n",
    "    r\"\\quad e_2 = \\begin{bmatrix}\" + str(e_2[0]) + r\"\\\\\" + str(e_2[1]) + r\"\\\\\" + str(e_2[2]) + r\"\\end{bmatrix}\" +\n",
    "    r\"\\quad e_3 = \\begin{bmatrix}\" + str(e_3[0]) + r\"\\\\\" + str(e_3[1]) + r\"\\\\\" + str(e_3[2]) + r\"\\end{bmatrix}\"\n",
    ")"
   ],
   "id": "ff3cb87ed1189725",
   "outputs": [
    {
     "data": {
      "text/plain": [
       "<IPython.core.display.Math object>"
      ],
      "text/latex": "$\\displaystyle \\sigma_1 = 140.596520515749\\quad \\sigma_2 = 0\\quad \\sigma_3 = -116.596520515749\\quad e_1 = \\begin{bmatrix}0.385063333678592\\\\0\\\\0.922890150048384\\end{bmatrix}\\quad e_2 = \\begin{bmatrix}0\\\\1\\\\0\\end{bmatrix}\\quad e_3 = \\begin{bmatrix}-0.922890150048384\\\\0\\\\0.385063333678592\\end{bmatrix}$"
     },
     "execution_count": 173,
     "metadata": {},
     "output_type": "execute_result"
    }
   ],
   "execution_count": 173
  },
  {
   "metadata": {},
   "cell_type": "markdown",
   "source": "<h4>6. feladat</h4>\n",
   "id": "b7927551bdf653ab"
  },
  {
   "metadata": {
    "ExecuteTime": {
     "end_time": "2025-04-30T08:12:40.001773Z",
     "start_time": "2025-04-30T08:12:39.983564Z"
    }
   },
   "cell_type": "code",
   "source": [
    "sigmaMohr_e = sigma_1 - sigma_3\n",
    "sigmaHMH_e = sqrt(((sigma_1 - sigma_2)**2 + (sigma_1 - sigma_3)**2 + (sigma_2 - sigma_3)**2)/2)\n",
    "\n",
    "delta_sigma = sigmaMohr_e - sigmaHMH_e\n",
    "\n",
    "Math(r\"\\sigma^{Mohr}_e = \" + str(sigmaMohr_e) + r\" \\quad \\sigma^{HMH}_e = \" + str(sigmaHMH_e) + r\" \\quad \\Delta\\sigma = \" + str(delta_sigma))"
   ],
   "id": "4d7e0f9e4e61064",
   "outputs": [
    {
     "data": {
      "text/plain": [
       "<IPython.core.display.Math object>"
      ],
      "text/latex": "$\\displaystyle \\sigma^{Mohr}_e = 257.193041031498 \\quad \\sigma^{HMH}_e = 223.058726048259 \\quad \\Delta\\sigma = 34.1343149832387$"
     },
     "execution_count": 174,
     "metadata": {},
     "output_type": "execute_result"
    }
   ],
   "execution_count": 174
  },
  {
   "metadata": {},
   "cell_type": "markdown",
   "source": "<h4>7. feladat</h4>\n",
   "id": "6c5812389f90d289"
  },
  {
   "metadata": {
    "ExecuteTime": {
     "end_time": "2025-04-30T08:12:40.127152Z",
     "start_time": "2025-04-30T08:12:40.100421Z"
    }
   },
   "cell_type": "code",
   "source": [
    "u = (sigma_x * epsilon_x + tau_xz * gamma_xz + sigma_z * epsilon_z).subs(adatok)/2\n",
    "u_h = 3*2/9 * (sigma_I * epsilon_v).subs(adatok)\n",
    "\n",
    "u_d = (u - u_h).subs(adatok)\n",
    "\n",
    "Math(r\"u = \" + str(u) + r\" \\quad u_h = \" + str(u_h) + r\" \\quad u_d = \" + str(u_d))"
   ],
   "id": "6010403b9620dbac",
   "outputs": [
    {
     "data": {
      "text/plain": [
       "<IPython.core.display.Math object>"
      ],
      "text/latex": "$\\displaystyle u = 0.102852307692308 \\quad u_h = 0.000731428571428573 \\quad u_d = 0.102120879120879$"
     },
     "execution_count": 175,
     "metadata": {},
     "output_type": "execute_result"
    }
   ],
   "execution_count": 175
  }
 ],
 "metadata": {
  "kernelspec": {
   "display_name": "Python 3",
   "language": "python",
   "name": "python3"
  },
  "language_info": {
   "codemirror_mode": {
    "name": "ipython",
    "version": 2
   },
   "file_extension": ".py",
   "mimetype": "text/x-python",
   "name": "python",
   "nbconvert_exporter": "python",
   "pygments_lexer": "ipython2",
   "version": "2.7.6"
  }
 },
 "nbformat": 4,
 "nbformat_minor": 5
}
